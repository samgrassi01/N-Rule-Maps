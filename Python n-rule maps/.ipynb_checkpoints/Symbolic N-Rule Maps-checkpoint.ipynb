{
 "cells": [
  {
   "cell_type": "markdown",
   "metadata": {},
   "source": [
    "# Symbolic N-Rule Maps\n",
    "\n",
    "The present notebook is the same as the N-Rule Maps notebook, but uses the \"symbolic\" redefinition of n-rule maps.  See the updated doc string below.\n",
    "```\n",
    "    The following code takes an n-rule, and plots the path it generates\n",
    "    in the specified space X_m.  If the n-rule map converges to a periodic orbit\n",
    "    within num_iter iterations, the program will return the period.\n",
    "    Inputs:\n",
    "    X_m: input a list of m tuples, where m is the number of lines plus the x axis, so \n",
    "        X_m is of form [(slope1, intercept1), (slope2, intercept2), ...] for line slope and intercept\n",
    "        where line slope is an angle in degrees.  Further, we require that len(X_m) >= 2\n",
    "    n-rule: takes a list of n length three tuples of form \n",
    "        [(angle1, orientation1, distance1), (angle2, orientation2, distance2), ...]\n",
    "        where each angle parameter is between 0 and 90, orientation is either 1 or 0, and distance \n",
    "        is a positive integer from 1 to m inclusive.  If angle=90, orientation can be either 0 or 1 with no change\n",
    "        of map behavior\n",
    "    num_iter: number of times to iterate the map\n",
    "    points_to_plot: an interval [start_point, end_point] that determines the interval of iterations\n",
    "        of the map to be plotted.\n",
    "    start_point: list of length 2 [x, y] specifying the x and y coordinates of the point from which to\n",
    "        begin iteration\n",
    "    orbit_color: the color of the orbit plot, default is red.\n",
    "    \n",
    "    *** In this case of symbolic n-rule maps, the d value of each rule will be taken from [1, m],\n",
    "    *** where d values of 1 to m-1 will correspond with the line in at the index d of the set X_m,\n",
    "    *** and if d=m then will map to the x-axis line.\n",
    "\n",
    "```\n",
    "\n",
    "The main change here is $d \\in [1, m+1]$, and will map to the $d$th line in the set $X_m$, and when $d=m+1$, will map to the $x$-axis line."
   ]
  },
  {
   "cell_type": "code",
   "execution_count": 1,
   "metadata": {},
   "outputs": [],
   "source": [
    "# to produce inline plots replace `qt` with `inline`.  Using the QT option allows for interactive plots\n",
    "%matplotlib qt\n",
    "from symbolic_n_rule_maps import *"
   ]
  },
  {
   "cell_type": "markdown",
   "metadata": {},
   "source": [
    "Example symbolic n-rule maps."
   ]
  },
  {
   "cell_type": "code",
   "execution_count": 2,
   "metadata": {},
   "outputs": [],
   "source": [
    "vp = nRuleMap([(60, 0), (-60, 10), (-13, 2), (45, 6)], # two lines other than x-axis\n",
    "         [(35, 1, 2), (90, 0, 4), (90, 1, 3), (56, 0, 4), (87, 1, 1)],  # n-rule map\n",
    "         10000,                      # number of iterations\n",
    "         [7000, 10000],               # iterations to plot\n",
    "         [-1, 0],                    # starting point\n",
    "         \"orange\")                   # orbit color, default value is red"
   ]
  },
  {
   "cell_type": "code",
   "execution_count": 16,
   "metadata": {},
   "outputs": [],
   "source": [
    "vp = nRuleMap([(60, 0), (-60, 10)], # two lines other than x-axis\n",
    "         [(61, 0, 1), (60, 0, 2), (60, 0, 3)],  # n-rule map\n",
    "         10000,                      # number of iterations\n",
    "         [9500, 10000],               # iterations to plot\n",
    "         [0.4, 0],                    # starting point\n",
    "         \"blue\")   "
   ]
  },
  {
   "cell_type": "code",
   "execution_count": 17,
   "metadata": {},
   "outputs": [],
   "source": [
    "vp = nRuleMap([(60, 0), (-60, 10)], # two lines other than x-axis\n",
    "         [(61, 1, 2), (60, 1, 1), (60, 1, 3)],  # n-rule map\n",
    "         10000,                      # number of iterations\n",
    "         [9500, 10000],               # iterations to plot\n",
    "         [0.4, 0],                    # starting point\n",
    "         \"blue\")   "
   ]
  },
  {
   "cell_type": "markdown",
   "metadata": {},
   "source": [
    "We now provide an example of a randomely generated n-rule map that provides a periodic orbit with complex local dynamics but highly symmetric and structured global dynamics."
   ]
  },
  {
   "cell_type": "code",
   "execution_count": 2,
   "metadata": {},
   "outputs": [
    {
     "name": "stdout",
     "output_type": "stream",
     "text": [
      "The periodic orbit has period of  6000\n"
     ]
    }
   ],
   "source": [
    "def roNRule(angle, n):\n",
    "    nrule = []\n",
    "    for i in range(0, n):\n",
    "        o = random.choice([0, 1])\n",
    "        d = (i % 3) + 1\n",
    "        t = (angle, o, d)\n",
    "        nrule.append(t)\n",
    "    return nrule\n",
    "\n",
    "\n",
    "nrule = roNRule(71.5, 6000)\n",
    "vp = nRuleMap([(60, 0), (-60, 15)],\n",
    "         nrule, 30000, [19000, 30000], [0.6, 0], \"black\")"
   ]
  },
  {
   "cell_type": "code",
   "execution_count": 3,
   "metadata": {},
   "outputs": [
    {
     "name": "stdout",
     "output_type": "stream",
     "text": [
      "The periodic orbit has period of  30\n"
     ]
    }
   ],
   "source": [
    "nrule = roNRule(76.5, 30)\n",
    "vp = nRuleMap([(60, 0), (-60, 15)],\n",
    "         nrule, 10000, [9800, 10000], [1, 0])"
   ]
  },
  {
   "cell_type": "markdown",
   "metadata": {},
   "source": [
    "The following now provides example of a randomely generated n-rule map applied to an arbitrary space $X_m$, where in the following case we put $m=10$."
   ]
  },
  {
   "cell_type": "code",
   "execution_count": 4,
   "metadata": {},
   "outputs": [
    {
     "name": "stdout",
     "output_type": "stream",
     "text": [
      "The periodic orbit has period of  3000\n"
     ]
    }
   ],
   "source": [
    "def randomNRule(lower_ang, n, m):\n",
    "    nrule = []\n",
    "    o = 0\n",
    "    \n",
    "    m_list = []\n",
    "    for i in range(1, m+2):\n",
    "        m_list.append(i)\n",
    "        \n",
    "    for i in range(0, n):\n",
    "        o = random.choice([0, 1])\n",
    "        d = random.choice(m_list)\n",
    "        a1 = random.randrange(lower_ang, 90)\n",
    "        a3 = np.random.randint(0, 10)/10\n",
    "        a = a1+a3\n",
    "        t = (a, o, d)\n",
    "        nrule.append(t)\n",
    "    return nrule\n",
    "\n",
    "nrule = randomNRule(50, 3000, 10)\n",
    "vp = nRuleMap([(20, 0), (-51, 100), (-15, -10), (89, 0), (-60, 250), (15, -113), (3, -11), (26, 100), (70, 145.5), (-45, -54)],\n",
    "         nrule, 15000, [10000, 15000], [500,0])"
   ]
  }
 ],
 "metadata": {
  "kernelspec": {
   "display_name": "Python 3",
   "language": "python",
   "name": "python3"
  },
  "language_info": {
   "codemirror_mode": {
    "name": "ipython",
    "version": 3
   },
   "file_extension": ".py",
   "mimetype": "text/x-python",
   "name": "python",
   "nbconvert_exporter": "python",
   "pygments_lexer": "ipython3",
   "version": "3.7.3"
  }
 },
 "nbformat": 4,
 "nbformat_minor": 2
}
